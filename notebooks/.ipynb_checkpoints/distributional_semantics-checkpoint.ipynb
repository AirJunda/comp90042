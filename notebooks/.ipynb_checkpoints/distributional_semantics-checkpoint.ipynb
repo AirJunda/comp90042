{
 "cells": [
  {
   "cell_type": "markdown",
   "metadata": {},
   "source": [
    "# Distributional Semantics\n"
   ]
  },
  {
   "cell_type": "markdown",
   "metadata": {},
   "source": [
    "For this notebook, we'll be using the 500 document Brown corpus included in NLTK"
   ]
  },
  {
   "cell_type": "code",
   "execution_count": 1,
   "metadata": {
    "collapsed": true
   },
   "outputs": [],
   "source": [
    "from nltk.corpus import brown"
   ]
  },
  {
   "cell_type": "markdown",
   "metadata": {},
   "source": [
    "This notebook is divided up into two independent parts: the first uses PMI for distinguishing good collocations, and the second involves building a vector space model for document retrieval.\n",
    "\n",
    "For the PMI portion, we'll use a function which extracts the information we need for a particular two word collocation, namely counts of each word individually, counts of the collocation, and the total number of word tokens in the corpus, and then calculates the PMI:"
   ]
  },
  {
   "cell_type": "code",
   "execution_count": 2,
   "metadata": {
    "collapsed": true
   },
   "outputs": [],
   "source": [
    "import math\n",
    "\n",
    "def get_PMI_for_collocation_brown(word1,word2):\n",
    "    word1_count = 0\n",
    "    word2_count = 0\n",
    "    both_count = 0\n",
    "    total_count = 0.0 # so that division results in a float\n",
    "    for sent in brown.sents():\n",
    "        sent = [word.lower() for word in sent]\n",
    "        for i in range(len(sent)):\n",
    "            total_count += 1\n",
    "            if sent[i] == word1:\n",
    "                word1_count += 1\n",
    "                if i < len(sent) - 1 and sent[i + 1] == word2:\n",
    "                    both_count += 1\n",
    "            elif sent[i] == word2:\n",
    "                word2_count += 1\n",
    "    return math.log((both_count/total_count)/((word1_count/total_count)*(word2_count/total_count)), 2)\n",
    "                \n",
    "        "
   ]
  },
  {
   "cell_type": "markdown",
   "metadata": {},
   "source": [
    "Note that in a typical use case, we probably wouldn't do it this way, since we'd likely want to calculate PMI across many different words, and collecting the statisitcs for this can be done in a single pass across the corpus for all words, and then the PMI calculated in a separate function. Anyway, let's compare the PMI for two phrases, \"hard work\" and \"some work\""
   ]
  },
  {
   "cell_type": "code",
   "execution_count": 3,
   "metadata": {
    "collapsed": false
   },
   "outputs": [
    {
     "name": "stdout",
     "output_type": "stream",
     "text": [
      "5.23724453167\n",
      "1.9135320271\n"
     ]
    }
   ],
   "source": [
    "print get_PMI_for_collocation_brown(\"hard\",\"work\")\n",
    "print get_PMI_for_collocation_brown(\"some\",\"work\")"
   ]
  },
  {
   "cell_type": "markdown",
   "metadata": {},
   "source": [
    "Based on PMI, \"hard work\" appears to be a much better collocation than \"some work\", which matches our intuition. Go ahead and try out this out some other collocations. "
   ]
  },
  {
   "cell_type": "markdown",
   "metadata": {},
   "source": [
    "For the second part of the notebook, let's create a sparse document-term matrix, using sci-kit learn. We will do a document-term matrix rather than term-document because we will be performing SVD dimensionality reduction to produce dense document representations for document retrevial. Note that this is actually identical to creating a BOW feature representation for each document; the difference comes in how we used the representation. "
   ]
  },
  {
   "cell_type": "code",
   "execution_count": 4,
   "metadata": {
    "collapsed": false
   },
   "outputs": [
    {
     "name": "stdout",
     "output_type": "stream",
     "text": [
      "  (0, 49)\t1.0\n",
      "  (0, 58)\t1.0\n",
      "  (0, 169)\t1.0\n",
      "  (0, 181)\t1.0\n",
      "  (0, 205)\t1.0\n",
      "  (0, 238)\t1.0\n",
      "  (0, 322)\t33.0\n",
      "  (0, 373)\t3.0\n",
      "  (0, 374)\t3.0\n",
      "  (0, 393)\t87.0\n",
      "  (0, 395)\t4.0\n",
      "  (0, 405)\t88.0\n",
      "  (0, 454)\t4.0\n",
      "  (0, 465)\t1.0\n",
      "  (0, 695)\t1.0\n",
      "  (0, 720)\t1.0\n",
      "  (0, 939)\t1.0\n",
      "  (0, 1087)\t1.0\n",
      "  (0, 1103)\t1.0\n",
      "  (0, 1123)\t1.0\n",
      "  (0, 1159)\t1.0\n",
      "  (0, 1170)\t1.0\n",
      "  (0, 1173)\t1.0\n",
      "  (0, 1200)\t3.0\n",
      "  (0, 1451)\t1.0\n",
      "  :\t:\n",
      "  (499, 49161)\t1.0\n",
      "  (499, 49164)\t1.0\n",
      "  (499, 49242)\t1.0\n",
      "  (499, 49253)\t1.0\n",
      "  (499, 49275)\t1.0\n",
      "  (499, 49301)\t1.0\n",
      "  (499, 49313)\t1.0\n",
      "  (499, 49369)\t1.0\n",
      "  (499, 49385)\t1.0\n",
      "  (499, 49386)\t4.0\n",
      "  (499, 49390)\t2.0\n",
      "  (499, 49410)\t2.0\n",
      "  (499, 49446)\t1.0\n",
      "  (499, 49576)\t1.0\n",
      "  (499, 49590)\t1.0\n",
      "  (499, 49613)\t3.0\n",
      "  (499, 49691)\t42.0\n",
      "  (499, 49694)\t3.0\n",
      "  (499, 49697)\t3.0\n",
      "  (499, 49698)\t1.0\n",
      "  (499, 49707)\t17.0\n",
      "  (499, 49708)\t1.0\n",
      "  (499, 49710)\t4.0\n",
      "  (499, 49711)\t1.0\n",
      "  (499, 49797)\t1.0\n"
     ]
    }
   ],
   "source": [
    "from sklearn.feature_extraction import DictVectorizer\n",
    "\n",
    "def get_BOW(text):\n",
    "    BOW = {}\n",
    "    for word in text:\n",
    "        BOW[word.lower()] = BOW.get(word.lower(),0) + 1\n",
    "    return BOW\n",
    "\n",
    "texts = []\n",
    "for fileid in brown.fileids():\n",
    "    texts.append(get_BOW(brown.words(fileid)))\n",
    "\n",
    "vectorizer = DictVectorizer()\n",
    "brown_matrix = vectorizer.fit_transform(texts)\n",
    "print brown_matrix\n"
   ]
  },
  {
   "cell_type": "markdown",
   "metadata": {},
   "source": [
    "Our matrix is sparse: for instance, columns 0-48 in row 0 are empty, and are just left out, only the rows and columns with values other than zeros are displayed\n",
    "\n",
    "Rather than removing stopwords as we did for text classification, let's add some idf weighting to this matrix. Scikit-learn has a built-in tf-idf transformer for just this purpose."
   ]
  },
  {
   "cell_type": "code",
   "execution_count": 5,
   "metadata": {
    "collapsed": false
   },
   "outputs": [
    {
     "name": "stdout",
     "output_type": "stream",
     "text": [
      "  (0, 49646)\t1.72981116493\n",
      "  (0, 49613)\t1.36816932336\n",
      "  (0, 49596)\t3.70663186543\n",
      "  (0, 49386)\t9.98833379406\n",
      "  (0, 49378)\t8.73162901565\n",
      "  (0, 49313)\t2.62964061975\n",
      "  (0, 49301)\t7.37407593121\n",
      "  (0, 49292)\t2.18417017703\n",
      "  (0, 49224)\t3.38596670193\n",
      "  (0, 49147)\t6.0\n",
      "  (0, 49041)\t3.40794560865\n",
      "  (0, 49003)\t22.2100968809\n",
      "  (0, 49001)\t5.74160535314\n",
      "  (0, 48990)\t16.8467729363\n",
      "  (0, 48951)\t4.72970144863\n",
      "  (0, 48950)\t4.93935194012\n",
      "  (0, 48932)\t3.9565115604\n",
      "  (0, 48867)\t7.04612032287\n",
      "  (0, 48777)\t1.41855034766\n",
      "  (0, 48771)\t13.6942100975\n",
      "  (0, 48769)\t6.23642898412\n",
      "  (0, 48753)\t1.29571424415\n",
      "  (0, 48749)\t3.19841940751\n",
      "  (0, 48720)\t1.16487464319\n",
      "  (0, 48670)\t2.19743194588\n",
      "  :\t:\n",
      "  (499, 2710)\t3.1202635362\n",
      "  (499, 2688)\t2.04412410338\n",
      "  (499, 2670)\t3.9565115604\n",
      "  (499, 2611)\t4.27016911926\n",
      "  (499, 2468)\t6.52146091786\n",
      "  (499, 2439)\t4.1700856607\n",
      "  (499, 2415)\t4.12263300785\n",
      "  (499, 2413)\t2.32033750431\n",
      "  (499, 2388)\t2.09661428601\n",
      "  (499, 2358)\t6.11599580975\n",
      "  (499, 2290)\t61.0\n",
      "  (499, 2289)\t7.55330245138\n",
      "  (499, 2286)\t11.1562013446\n",
      "  (499, 2285)\t20.7148120152\n",
      "  (499, 2283)\t1.22564668153\n",
      "  (499, 1345)\t6.52146091786\n",
      "  (499, 1141)\t4.50655789732\n",
      "  (499, 405)\t83.0\n",
      "  (499, 395)\t12.7103339312\n",
      "  (499, 393)\t188.0\n",
      "  (499, 374)\t4.08721685594\n",
      "  (499, 373)\t4.09584995543\n",
      "  (499, 354)\t7.21460809842\n",
      "  (499, 322)\t7.53816731035\n",
      "  (499, 320)\t3.47693848014\n"
     ]
    }
   ],
   "source": [
    "from sklearn.feature_extraction.text import TfidfTransformer\n",
    "\n",
    "transformer = TfidfTransformer(smooth_idf=False,norm=None)\n",
    "\n",
    "brown_matrix = transformer.fit_transform(brown_matrix)\n",
    "\n",
    "print brown_matrix"
   ]
  },
  {
   "cell_type": "markdown",
   "metadata": {},
   "source": [
    "Next, let's apply SVD. Scikit-learn does not expose the internal details of the decomposition, we just use the TruncatedSVD class directly get a matrix with k dimensions. Since the Brown corpus is a fairly small corpus, we'll do k=100"
   ]
  },
  {
   "cell_type": "code",
   "execution_count": 6,
   "metadata": {
    "collapsed": false
   },
   "outputs": [
    {
     "name": "stdout",
     "output_type": "stream",
     "text": [
      "[[  2.42558208e+02   2.29467260e+01  -9.13295899e+00 ...,  -3.93194521e+00\n",
      "   -4.31070980e+00  -4.48405648e+00]\n",
      " [  2.48385446e+02   2.50211712e+01  -2.11564668e+01 ...,   3.95161813e+00\n",
      "   -1.47451093e+01   7.71966768e+00]\n",
      " [  2.36701807e+02   2.40132907e+01  -1.11425082e+01 ...,  -1.37672303e+01\n",
      "   -2.03296052e+00  -1.55838356e+00]\n",
      " ..., \n",
      " [  2.58648884e+02  -1.13703798e+02   2.65677713e+01 ...,   1.90243669e-01\n",
      "   -6.42072245e-01  -1.86653074e+01]\n",
      " [  2.91346128e+02   1.29999362e+01  -2.67548983e+01 ...,  -5.44686900e-01\n",
      "   -1.49584992e+00  -1.29129229e+00]\n",
      " [  2.73315461e+02  -3.19074823e+01  -1.77859498e+01 ...,  -3.05565816e+00\n",
      "   -3.66808138e+00  -3.93672626e+00]]\n"
     ]
    }
   ],
   "source": [
    "from sklearn.decomposition import TruncatedSVD\n",
    "\n",
    "svd = TruncatedSVD(n_components=100)\n",
    "brown_matrix = svd.fit_transform(brown_matrix)\n",
    "\n",
    "print brown_matrix"
   ]
  },
  {
   "cell_type": "markdown",
   "metadata": {},
   "source": [
    "Note that this matrix is not sparse.\n",
    "\n",
    "The last thing we'll do is build a very simple document retrevial system based on the vector space model we've built: it will take some query input, apply all the transformations we have defined above, then find the Brown document with the highest cosine similarity to the query document. Here we are using scipy's cosine distance function; we actually find the smallest distance instead of the largest similarity."
   ]
  },
  {
   "cell_type": "code",
   "execution_count": 7,
   "metadata": {
    "collapsed": true
   },
   "outputs": [],
   "source": [
    "from scipy.spatial.distance import cosine as cos_distance\n",
    "\n",
    "def transform_query(query_text):\n",
    "    return svd.transform(transformer.transform(vectorizer.transform([get_BOW(query_text.split())])))[0]\n",
    "\n",
    "def get_best_doc_num(query):\n",
    "    f = lambda x: cos_distance(query,brown_matrix[x])\n",
    "    best_doc = min(range(500),key=f)\n",
    "    return best_doc"
   ]
  },
  {
   "cell_type": "markdown",
   "metadata": {},
   "source": [
    "Let's test this out with a couple of sets of key words, with the idea of getting a religious text in the first example, and a mathematics text in the second (the Brown corpus has both). We'll also look at the specific vectors and distances involved."
   ]
  },
  {
   "cell_type": "code",
   "execution_count": 8,
   "metadata": {
    "collapsed": false
   },
   "outputs": [
    {
     "name": "stdout",
     "output_type": "stream",
     "text": [
      "query text\n",
      "heaven hell devil lord\n",
      "query vector\n",
      "[  2.54452687e-02  -7.56679993e-02   1.41123872e-02   3.04769437e-05\n",
      "   4.26648781e-02  -1.00752509e-01  -4.57414331e-02   3.56242823e-02\n",
      "   5.54915690e-02   4.06544466e-02   2.70829739e-02  -4.90315816e-02\n",
      "   7.17051626e-02   4.50726583e-03  -4.11722678e-02   4.48082691e-02\n",
      "  -1.23657908e-01   1.43152195e-02   3.52936044e-03   2.81564695e-02\n",
      "  -7.83756573e-02   6.89396599e-03   9.52306268e-02  -3.11698230e-02\n",
      "   7.49723686e-02  -1.62267507e-02   9.59333787e-05  -3.17927457e-02\n",
      "   1.28658660e-01  -5.29471293e-02  -6.72129251e-02   1.40567515e-02\n",
      "   5.33132038e-02   3.78057823e-02  -8.75384899e-02   1.72355447e-02\n",
      "  -8.21910451e-03  -4.86292667e-04   2.37387285e-02  -5.49583988e-02\n",
      "   6.83240447e-02  -1.32568515e-01  -4.13863783e-02  -6.41750572e-02\n",
      "  -4.63857753e-02  -8.93651530e-03   2.75541168e-02  -3.28616310e-02\n",
      "  -6.63452416e-02  -9.62220804e-02  -5.75416343e-02   8.52153878e-02\n",
      "   1.15379908e-01  -1.07925220e-01  -5.59246119e-02   7.53438849e-02\n",
      "  -5.86190878e-02  -1.80711504e-02   4.74577045e-02  -1.21195357e-02\n",
      "  -7.38821253e-02   4.26516470e-02   7.34275465e-02   3.13622211e-03\n",
      "   7.77271698e-02  -1.61786121e-02   4.82013562e-02   1.45899248e-01\n",
      "   1.86139828e-01   3.44693515e-02   8.08037314e-03  -8.51092919e-05\n",
      "   9.09140469e-02   1.28115477e-02   9.37636189e-03  -4.00877579e-02\n",
      "  -3.85589666e-02   9.86046359e-02  -9.46128415e-02   2.93151108e-02\n",
      "  -2.53976306e-03   8.29554832e-03   6.99241024e-02  -9.09140329e-02\n",
      "  -3.80099427e-02  -7.46466243e-02  -4.05818511e-02  -6.10957133e-02\n",
      "   3.63735000e-02   5.43105518e-03   3.10181157e-02  -4.68271015e-02\n",
      "  -5.33045846e-02  -4.86441806e-02   5.84187141e-02  -8.49342976e-02\n",
      "  -1.85198336e-02   5.84200432e-02  -7.69352125e-02   5.72903628e-02]\n",
      "best document vector\n",
      "[ 286.51647623   -9.008634     -0.72307412   23.53720622   50.64639519\n",
      "  -10.98045594  -46.61839059  -16.44370351    6.35533838   33.85407025\n",
      "    0.67203968  -23.029484     21.52103093  -14.88405208  -10.88134113\n",
      "   12.93240707  -25.5180266     2.73415345  -13.92705184    7.48213215\n",
      "  -41.02006611    7.447598     12.53034468  -22.62651404   53.85784452\n",
      "    2.82071462  -35.24461462  -32.30021672   42.51254823  -34.35358487\n",
      "  -12.09083058   28.69389366   12.14730739   14.44687397  -27.97102312\n",
      "   -4.07361505  -24.43139761   15.10249324   13.18081276  -46.05537669\n",
      "   42.48191425  -54.95556373    5.44362371  -63.63631553    6.56924512\n",
      "   12.51989745   -2.52223875   17.10485931  -13.76674562  -32.68314373\n",
      "  -10.42338373   40.98890539   56.62131476  -36.09634836  -48.79893099\n",
      "   40.24205893  -16.43694336   -2.95944634   33.02141689   -4.91127233\n",
      "  -47.84097755   28.01765314   29.47903631    4.32000737   15.96089982\n",
      "  -18.40836364   35.57954392   26.82705383   36.4077007    24.59949775\n",
      "  -19.32474451   19.75981686   23.9019507   -10.55444515   -5.45849614\n",
      "  -20.20229129   13.8701174    22.34887738    6.33688474   13.56604191\n",
      "   28.19317922   -8.97251065  -17.91809091  -23.14132342  -35.63755073\n",
      "  -38.84741229   -0.61191567   -5.75304331    5.64673007   31.18029484\n",
      "    6.50054672   -8.99005594   -1.45219467  -18.5667183    12.28156077\n",
      "    2.61982518   -7.83942663    5.18664279  -15.79827732   -3.4791445 ]\n",
      "cosine distance from query to document\n",
      "0.48707920891\n",
      "best document sample\n",
      "[u'Pope', u'Leo', u'13', u',', u'on', u'the', u'13th', u'day', u'of', u'December', u'1898', u',', u'granted', u'the', u'following', u'indulgences', u':', u'``', u'An', u'indulgence', u'of', u'three', u'hundred', u'days', u'is', u'granted', u'to', u'all', u'the', u'Faithful', u'who', u'read', u'the', u'Holy', u'Gospels', u'at', u'least', u'a', u'quarter', u'of', u'an', u'hour', u'.', u'A', u'Plenary', u'Indulgence', u'under', u'the', u'usual', u'conditions']\n",
      "query text\n",
      "matrix algebra eigenvalue\n",
      "query vector\n",
      "[ 0.00120706  0.01168865  0.06325557  0.02990176 -0.00532716 -0.01350829\n",
      " -0.01577063  0.00659267 -0.01942347 -0.01591772  0.01914843  0.00181236\n",
      " -0.02053165 -0.02885064  0.0080126  -0.07702917 -0.06455678  0.01229458\n",
      "  0.01818082  0.01127213  0.0324421   0.00126371 -0.03465967  0.01386638\n",
      "  0.00475678 -0.00236736  0.00552575 -0.0271661   0.00187723 -0.03178038\n",
      "  0.02435981  0.01730688 -0.02108072  0.00767996 -0.00140474  0.00779161\n",
      "  0.00987021  0.01938363 -0.02066319  0.01644518 -0.01531404  0.00333641\n",
      "  0.0091269  -0.01689742 -0.00932741 -0.001504    0.02685607 -0.00093468\n",
      "  0.01115481  0.00393065 -0.04071665 -0.00334885 -0.00240434 -0.01395705\n",
      " -0.00933296 -0.02157052  0.00726028 -0.03545343 -0.05111979  0.00867879\n",
      " -0.02109277 -0.01574773  0.02559762 -0.0176585   0.00665256 -0.01284251\n",
      "  0.00030238 -0.00344605 -0.0186821  -0.01056291 -0.01513701 -0.00529013\n",
      "  0.00213581 -0.00015768  0.00830899  0.00984112  0.00252564 -0.00597729\n",
      " -0.01241654  0.01522358  0.00312426  0.00396562  0.01331043  0.01079557\n",
      " -0.00283542 -0.00219009 -0.00492581 -0.00058148 -0.00789869 -0.0145295\n",
      " -0.00051786 -0.006337    0.00308948 -0.00136053 -0.00286952  0.00977747\n",
      "  0.00245691 -0.00374679 -0.01489926 -0.00792859]\n",
      "best document vector\n",
      "[  2.65887399e+02   1.90805124e+02   5.66319141e+02   1.90258192e+02\n",
      "  -2.24152320e+01  -6.63908722e+01  -6.45473092e+01   2.53423432e+01\n",
      "  -6.99748969e+01  -4.96443207e+01   5.32650965e+01   8.87293661e+00\n",
      "  -4.16217895e+01  -7.99383751e+01   2.35815856e+01  -1.72554016e+02\n",
      "  -1.34929445e+02   1.84428356e+01   3.62798338e+01   1.50104345e+01\n",
      "   6.25134261e+01   1.13367614e+01  -5.48601002e+01   1.64997490e+01\n",
      "   1.03548641e+01  -6.59183312e+00   1.17102200e+01  -5.46330064e+01\n",
      "  -1.47738562e+00  -4.76145717e+01   4.05472557e+01   2.95909283e+01\n",
      "  -3.75710691e+01   1.93534154e+01  -2.17949579e-01   1.31752320e+01\n",
      "   2.56770544e-01   2.86098747e+01  -3.19043143e+01   2.18749309e+01\n",
      "  -2.78511601e+01   3.28676271e+00   1.22618666e+01  -2.76378115e+01\n",
      "  -1.11601051e+01  -2.74869065e+00   2.89968901e+01  -5.55346760e+00\n",
      "   1.43683555e+01   1.03339515e+01  -6.12631294e+01  -2.14265605e+00\n",
      "  -8.09604428e+00  -2.00859272e+01  -8.92136221e+00  -3.03901501e+01\n",
      "  -3.29549110e+00  -4.34496450e+01  -5.67134197e+01   1.00251272e+01\n",
      "  -2.02111815e+01  -2.08285073e+01   2.44655254e+01  -9.88069842e+00\n",
      "   4.81385540e+00  -1.66539246e+01  -1.10522049e+01  -5.27052626e-01\n",
      "  -1.37310211e+01  -1.04940776e+01  -2.07117064e+01   8.34694736e+00\n",
      "   6.00357961e+00  -5.19835347e+00   2.19541436e+01   9.03993832e+00\n",
      "   1.20485677e+01   1.60568970e+00  -1.14386399e+01   1.13286062e+01\n",
      "   7.51783745e-01   1.59828663e+00   6.17955860e+00   1.72960406e+01\n",
      "   2.42158012e-01  -1.42587032e+00  -4.93682923e+00   8.53942494e+00\n",
      "  -1.22007725e+01  -3.63488986e+00  -2.25929669e-01  -2.92208627e+00\n",
      "   4.20185725e+00   5.16536120e+00   6.05777839e+00  -8.19422860e+00\n",
      "  -3.52345511e+00  -3.92557664e+00  -1.14177503e+00  -6.46613891e+00]\n",
      "cosine distance from query to document\n",
      "0.317843943693\n",
      "best document sample\n",
      "[u'6.4', u'.', u'The', u'primary', u'decomposition', u'theorem', u'We', u'are', u'trying', u'to', u'study', u'a', u'linear', u'operator', u'T', u'on', u'the', u'finite-dimensional', u'space', u'V', u',', u'by', u'decomposing', u'T', u'into', u'a', u'direct', u'sum', u'of', u'operators', u'which', u'are', u'in', u'some', u'sense', u'elementary', u'.', u'We', u'can', u'do', u'this', u'through', u'the', u'characteristic', u'values', u'and', u'vectors', u'of', u'T', u'in']\n"
     ]
    }
   ],
   "source": [
    "def try_query(query_text):\n",
    "    query = transform_query(query_text)\n",
    "    doc_num = get_best_doc_num(query)\n",
    "    print \"query text\"\n",
    "    print query_text\n",
    "    print \"query vector\"\n",
    "    print query\n",
    "    print \"best document vector\"\n",
    "    print brown_matrix[doc_num]\n",
    "    print \"cosine distance from query to document\"\n",
    "    print cos_distance(query,brown_matrix[doc_num])\n",
    "    print \"best document sample\"\n",
    "    print brown.words(brown.fileids()[doc_num])[:50]\n",
    "\n",
    "try_query(\"heaven hell devil lord\")\n",
    "try_query(\"matrix algebra eigenvalue\")"
   ]
  }
 ],
 "metadata": {
  "kernelspec": {
   "display_name": "Python 2",
   "language": "python",
   "name": "python2"
  },
  "language_info": {
   "codemirror_mode": {
    "name": "ipython",
    "version": 2
   },
   "file_extension": ".py",
   "mimetype": "text/x-python",
   "name": "python",
   "nbconvert_exporter": "python",
   "pygments_lexer": "ipython2",
   "version": "2.7.10"
  }
 },
 "nbformat": 4,
 "nbformat_minor": 0
}
